{
 "cells": [
  {
   "cell_type": "code",
   "execution_count": 16,
   "id": "4fb363af",
   "metadata": {},
   "outputs": [
    {
     "name": "stdout",
     "output_type": "stream",
     "text": [
      "Requirement already satisfied: pulp in d:\\python 3\\lib\\site-packages (2.7.0)\n"
     ]
    },
    {
     "name": "stderr",
     "output_type": "stream",
     "text": [
      "\n",
      "[notice] A new release of pip available: 22.2.1 -> 23.0.1\n",
      "[notice] To update, run: python.exe -m pip install --upgrade pip\n"
     ]
    }
   ],
   "source": [
    "!pip install pulp"
   ]
  },
  {
   "cell_type": "code",
   "execution_count": 17,
   "id": "a2e61bd4",
   "metadata": {},
   "outputs": [],
   "source": [
    "from pulp import *"
   ]
  },
  {
   "cell_type": "code",
   "execution_count": 28,
   "id": "d3ad9635",
   "metadata": {},
   "outputs": [],
   "source": [
    "problema = LpProblem(\"PROBLEMA_DE_OPTIMIZACION_LINEAL\", LpMaximize)\n",
    "\n",
    "#lowBound=0 (Restrccion de mayor a 0)\n",
    "#cat='Integer' (Indicando que las variables tienen que ser enteras)\n",
    "#variables\n",
    "x1 = LpVariable(\"X1\", lowBound=0, cat='Integer')\n",
    "x2 = LpVariable(\"X2\", lowBound=0, cat='Integer')"
   ]
  },
  {
   "cell_type": "code",
   "execution_count": 29,
   "id": "dd46a5f9",
   "metadata": {},
   "outputs": [],
   "source": [
    "#Funcion objetivo\n",
    "problema += 2*x1 - 4*x2\n",
    "\n",
    "#Resticciones\n",
    "problema += -x1+x2<=3\n",
    "problema += -x1+2*x2>=-4\n",
    "problema += 3*x1+x2==4"
   ]
  },
  {
   "cell_type": "code",
   "execution_count": 30,
   "id": "77554cba",
   "metadata": {},
   "outputs": [
    {
     "data": {
      "text/plain": [
       "PROBLEMA_DE_OPTIMIZACION_LINEAL:\n",
       "MAXIMIZE\n",
       "2*X1 + -4*X2 + 0\n",
       "SUBJECT TO\n",
       "_C1: - X1 + X2 <= 3\n",
       "\n",
       "_C2: - X1 + 2 X2 >= -4\n",
       "\n",
       "_C3: 3 X1 + X2 = 4\n",
       "\n",
       "VARIABLES\n",
       "0 <= X1 Integer\n",
       "0 <= X2 Integer"
      ]
     },
     "execution_count": 30,
     "metadata": {},
     "output_type": "execute_result"
    }
   ],
   "source": [
    "problema"
   ]
  },
  {
   "cell_type": "code",
   "execution_count": 31,
   "id": "836f5f5f",
   "metadata": {},
   "outputs": [
    {
     "data": {
      "text/plain": [
       "1"
      ]
     },
     "execution_count": 31,
     "metadata": {},
     "output_type": "execute_result"
    }
   ],
   "source": [
    "problema.solve()"
   ]
  },
  {
   "cell_type": "code",
   "execution_count": 32,
   "id": "c77decdd",
   "metadata": {},
   "outputs": [
    {
     "name": "stdout",
     "output_type": "stream",
     "text": [
      "X1: 1.0\n",
      "X2: 1.0\n"
     ]
    }
   ],
   "source": [
    "for var in problema.variables():\n",
    "    print(f\"{var.name}: {var.value()}\")"
   ]
  }
 ],
 "metadata": {
  "kernelspec": {
   "display_name": "Python 3 (ipykernel)",
   "language": "python",
   "name": "python3"
  },
  "language_info": {
   "codemirror_mode": {
    "name": "ipython",
    "version": 3
   },
   "file_extension": ".py",
   "mimetype": "text/x-python",
   "name": "python",
   "nbconvert_exporter": "python",
   "pygments_lexer": "ipython3",
   "version": "3.11.2"
  }
 },
 "nbformat": 4,
 "nbformat_minor": 5
}
