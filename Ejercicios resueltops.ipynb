{
 "cells": [
  {
   "cell_type": "markdown",
   "id": "1d560469",
   "metadata": {},
   "source": [
    "<h1>PROBLEMA TRANSFORMADORES</h1>"
   ]
  },
  {
   "cell_type": "code",
   "execution_count": 2,
   "id": "49502b40",
   "metadata": {},
   "outputs": [],
   "source": [
    "from pulp import *"
   ]
  },
  {
   "cell_type": "code",
   "execution_count": 3,
   "id": "9dfc3592",
   "metadata": {},
   "outputs": [],
   "source": [
    "#problema\n",
    "transformadores = LpProblem(\"Transformadores\", LpMaximize)\n",
    "\n",
    "#variables\n",
    "x1 = LpVariable(\"X1\")\n",
    "x2 = LpVariable(\"X2\")"
   ]
  },
  {
   "cell_type": "code",
   "execution_count": 4,
   "id": "2344e2e6",
   "metadata": {},
   "outputs": [],
   "source": [
    "#Funcion objetivo\n",
    "transformadores += 400*x1 + 700*x2\n",
    "\n",
    "#Restricciones\n",
    "transformadores += 1*x1 + 2.3*x2 <= 1400\n",
    "transformadores += 1*x1 + 1.4*x2 <= 980\n",
    "transformadores += 1*x1 + 1*x2 <= 900"
   ]
  },
  {
   "cell_type": "code",
   "execution_count": 5,
   "id": "b787ff5a",
   "metadata": {},
   "outputs": [
    {
     "data": {
      "text/plain": [
       "Transformadores:\n",
       "MAXIMIZE\n",
       "400*X1 + 700*X2 + 0\n",
       "SUBJECT TO\n",
       "_C1: X1 + 2.3 X2 <= 1400\n",
       "\n",
       "_C2: X1 + 1.4 X2 <= 980\n",
       "\n",
       "_C3: X1 + X2 <= 900\n",
       "\n",
       "VARIABLES\n",
       "X1 free Continuous\n",
       "X2 free Continuous"
      ]
     },
     "execution_count": 5,
     "metadata": {},
     "output_type": "execute_result"
    }
   ],
   "source": [
    "transformadores"
   ]
  },
  {
   "cell_type": "code",
   "execution_count": 6,
   "id": "bbd68ec5",
   "metadata": {},
   "outputs": [
    {
     "data": {
      "text/plain": [
       "1"
      ]
     },
     "execution_count": 6,
     "metadata": {},
     "output_type": "execute_result"
    }
   ],
   "source": [
    "transformadores.solve()"
   ]
  },
  {
   "cell_type": "code",
   "execution_count": 7,
   "id": "5f3c332d",
   "metadata": {},
   "outputs": [
    {
     "name": "stdout",
     "output_type": "stream",
     "text": [
      "X1: 326.66667\n",
      "X2: 466.66667\n"
     ]
    }
   ],
   "source": [
    "for var in transformadores.variables():\n",
    "    print(f\"{var.name}: {var.value()}\")"
   ]
  },
  {
   "cell_type": "markdown",
   "id": "407c6959",
   "metadata": {},
   "source": [
    "<h1>Problema mezcla para mascotas</h1>"
   ]
  },
  {
   "cell_type": "code",
   "execution_count": 8,
   "id": "ab7db220",
   "metadata": {},
   "outputs": [],
   "source": [
    "#problema\n",
    "Mascota = LpProblem(\"Mezcla_para_mascotas\", LpMinimize)\n",
    "\n",
    "#variables\n",
    "x1 = LpVariable(\"X1\", lowBound=0)\n",
    "x2 = LpVariable(\"X2\", lowBound=0)\n",
    "x3 = LpVariable(\"X3\", lowBound=0)\n",
    "x4 = LpVariable(\"X4\", lowBound=0)\n",
    "\n",
    "#Funcion objetivo\n",
    "Mascota += 0.75*x1 +  0.9*x2 + 0.8*x3 + 0.7*x4\n",
    "\n",
    "#restricciones\n",
    "Mascota += x1+x2+x3+x4 == 0.5\n",
    "Mascota += 9*x1 + 16*x2 + 8*x3 + 10*x4 >= 6\n",
    "Mascota += 12*x1 + 10*x2 + 10*x3 + 8*x4 >= 5\n",
    "Mascota += 14*x2 + 15*x3 + 7*x4 >= 5"
   ]
  },
  {
   "cell_type": "code",
   "execution_count": 9,
   "id": "9e69419c",
   "metadata": {},
   "outputs": [
    {
     "data": {
      "text/plain": [
       "Mezcla_para_mascotas:\n",
       "MINIMIZE\n",
       "0.75*X1 + 0.9*X2 + 0.8*X3 + 0.7*X4 + 0.0\n",
       "SUBJECT TO\n",
       "_C1: X1 + X2 + X3 + X4 = 0.5\n",
       "\n",
       "_C2: 9 X1 + 16 X2 + 8 X3 + 10 X4 >= 6\n",
       "\n",
       "_C3: 12 X1 + 10 X2 + 10 X3 + 8 X4 >= 5\n",
       "\n",
       "_C4: 14 X2 + 15 X3 + 7 X4 >= 5\n",
       "\n",
       "VARIABLES\n",
       "X1 Continuous\n",
       "X2 Continuous\n",
       "X3 Continuous\n",
       "X4 Continuous"
      ]
     },
     "execution_count": 9,
     "metadata": {},
     "output_type": "execute_result"
    }
   ],
   "source": [
    "Mascota"
   ]
  },
  {
   "cell_type": "code",
   "execution_count": 10,
   "id": "5bcba35a",
   "metadata": {},
   "outputs": [
    {
     "data": {
      "text/plain": [
       "1"
      ]
     },
     "execution_count": 10,
     "metadata": {},
     "output_type": "execute_result"
    }
   ],
   "source": [
    "Mascota.solve()"
   ]
  },
  {
   "cell_type": "code",
   "execution_count": 11,
   "id": "dbfddbfb",
   "metadata": {},
   "outputs": [
    {
     "name": "stdout",
     "output_type": "stream",
     "text": [
      "X1: 0.099447514\n",
      "X2: 0.21270718\n",
      "X3: 0.08839779\n",
      "X4: 0.099447514\n"
     ]
    }
   ],
   "source": [
    "for var in Mascota.variables():\n",
    "    print(f\"{var.name}: {var.value()}\")"
   ]
  },
  {
   "cell_type": "markdown",
   "id": "1093f2dc",
   "metadata": {},
   "source": [
    "<h1> Transporte de frutas"
   ]
  },
  {
   "cell_type": "code",
   "execution_count": 12,
   "id": "38bb34cd",
   "metadata": {},
   "outputs": [],
   "source": [
    "#problema\n",
    "fruta = LpProblem(\"Transporte_de_frutas\", LpMinimize)\n",
    "\n",
    "#variables\n",
    "x11 = LpVariable(\"X11\", lowBound=0, cat=\"Integer\")\n",
    "x12 = LpVariable(\"X12\", lowBound=0, cat=\"Integer\")\n",
    "x13 = LpVariable(\"X13\", lowBound=0, cat=\"Integer\")\n",
    "x14 = LpVariable(\"X14\", lowBound=0, cat=\"Integer\")\n",
    "x21 = LpVariable(\"X21\", lowBound=0, cat=\"Integer\")\n",
    "x22 = LpVariable(\"X22\", lowBound=0, cat=\"Integer\")\n",
    "x23 = LpVariable(\"X23\", lowBound=0, cat=\"Integer\")\n",
    "x24 = LpVariable(\"X24\", lowBound=0, cat=\"Integer\")\n",
    "x31 = LpVariable(\"X31\", lowBound=0, cat=\"Integer\")\n",
    "x32 = LpVariable(\"X32\", lowBound=0, cat=\"Integer\")\n",
    "x33 = LpVariable(\"X33\", lowBound=0, cat=\"Integer\")\n",
    "x34 = LpVariable(\"X34\", lowBound=0, cat=\"Integer\")\n",
    "\n",
    "#Funcion objetivo\n",
    "fruta += 3*x11 + 20*x12 + 30*x13 + 35*x14 + 15*x21 + 5*x22 + 35*x23 + 40*x24 + 45*x31 + 25*x32 + 10*x33 + 12*x34\n",
    "\n",
    "#restricciones\n",
    "fruta += x11+x21+x31 >= 120\n",
    "fruta += x12 + x22 + x32 >= 300\n",
    "fruta += x13 + x23 + x33 >= 80\n",
    "fruta += x14 + x24 + x34 >= 20\n",
    "fruta += x11 + x21 + x31 >= 120\n",
    "fruta += x12 + x22 + x32 >= 300\n",
    "fruta += x13 + x23 + x33 >= 80\n",
    "fruta += x14 + x24 + x34 >= 20"
   ]
  },
  {
   "cell_type": "code",
   "execution_count": 13,
   "id": "b085cb69",
   "metadata": {},
   "outputs": [
    {
     "data": {
      "text/plain": [
       "Transporte_de_frutas:\n",
       "MINIMIZE\n",
       "3*X11 + 20*X12 + 30*X13 + 35*X14 + 15*X21 + 5*X22 + 35*X23 + 40*X24 + 45*X31 + 25*X32 + 10*X33 + 12*X34 + 0\n",
       "SUBJECT TO\n",
       "_C1: X11 + X21 + X31 >= 120\n",
       "\n",
       "_C2: X12 + X22 + X32 >= 300\n",
       "\n",
       "_C3: X13 + X23 + X33 >= 80\n",
       "\n",
       "_C4: X14 + X24 + X34 >= 20\n",
       "\n",
       "_C5: X11 + X21 + X31 >= 120\n",
       "\n",
       "_C6: X12 + X22 + X32 >= 300\n",
       "\n",
       "_C7: X13 + X23 + X33 >= 80\n",
       "\n",
       "_C8: X14 + X24 + X34 >= 20\n",
       "\n",
       "VARIABLES\n",
       "0 <= X11 Integer\n",
       "0 <= X12 Integer\n",
       "0 <= X13 Integer\n",
       "0 <= X14 Integer\n",
       "0 <= X21 Integer\n",
       "0 <= X22 Integer\n",
       "0 <= X23 Integer\n",
       "0 <= X24 Integer\n",
       "0 <= X31 Integer\n",
       "0 <= X32 Integer\n",
       "0 <= X33 Integer\n",
       "0 <= X34 Integer"
      ]
     },
     "execution_count": 13,
     "metadata": {},
     "output_type": "execute_result"
    }
   ],
   "source": [
    "fruta"
   ]
  },
  {
   "cell_type": "code",
   "execution_count": 14,
   "id": "783f90fd",
   "metadata": {},
   "outputs": [
    {
     "data": {
      "text/plain": [
       "1"
      ]
     },
     "execution_count": 14,
     "metadata": {},
     "output_type": "execute_result"
    }
   ],
   "source": [
    "fruta.solve()"
   ]
  },
  {
   "cell_type": "code",
   "execution_count": 15,
   "id": "84479cc1",
   "metadata": {},
   "outputs": [
    {
     "name": "stdout",
     "output_type": "stream",
     "text": [
      "X1: 0.099447514\n",
      "X2: 0.21270718\n",
      "X3: 0.08839779\n",
      "X4: 0.099447514\n"
     ]
    }
   ],
   "source": [
    "for var in Mascota.variables():\n",
    "    print(f\"{var.name}: {var.value()}\")"
   ]
  },
  {
   "cell_type": "code",
   "execution_count": null,
   "id": "c16e2ff0",
   "metadata": {},
   "outputs": [],
   "source": []
  }
 ],
 "metadata": {
  "kernelspec": {
   "display_name": "Python 3 (ipykernel)",
   "language": "python",
   "name": "python3"
  },
  "language_info": {
   "codemirror_mode": {
    "name": "ipython",
    "version": 3
   },
   "file_extension": ".py",
   "mimetype": "text/x-python",
   "name": "python",
   "nbconvert_exporter": "python",
   "pygments_lexer": "ipython3",
   "version": "3.11.2"
  }
 },
 "nbformat": 4,
 "nbformat_minor": 5
}
