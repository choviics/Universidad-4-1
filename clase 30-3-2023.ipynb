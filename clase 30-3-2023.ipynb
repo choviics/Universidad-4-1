{
 "cells": [
  {
   "cell_type": "markdown",
   "id": "e7a52f20",
   "metadata": {},
   "source": [
    "<h1> PROBLEMA 1"
   ]
  },
  {
   "cell_type": "code",
   "execution_count": 1,
   "id": "4321d9b9",
   "metadata": {},
   "outputs": [],
   "source": [
    "from pulp import *"
   ]
  },
  {
   "cell_type": "code",
   "execution_count": 10,
   "id": "f1f381b3",
   "metadata": {},
   "outputs": [],
   "source": [
    "#problema\n",
    "problema1 = LpProblem(\"Problema1\", LpMinimize)\n",
    "\n",
    "#variables\n",
    "x1 = LpVariable(\"X1\", cat='Integer', lowBound=0)\n",
    "x2 = LpVariable(\"X2\", cat='Integer', lowBound=0)\n",
    "x3 = LpVariable(\"X3\", cat='Integer', lowBound=0)\n",
    "x4 = LpVariable(\"X4\", cat='Integer', lowBound=0)\n",
    "x5 = LpVariable(\"X5\", cat='Integer', lowBound=0)\n",
    "x6 = LpVariable(\"X6\", cat='Integer', lowBound=0)"
   ]
  },
  {
   "cell_type": "code",
   "execution_count": 11,
   "id": "6d2abeaf",
   "metadata": {},
   "outputs": [],
   "source": [
    "#Funcion objetivo\n",
    "problema1 += x1 + x2 + x3 +x4 + x5 +x6\n",
    "\n",
    "#Restricciones\n",
    "problema1 += x1 + x6 >= 4\n",
    "problema1 += x1 + x2 >= 8\n",
    "problema1 += x2 + x3 >= 10\n",
    "problema1 += x3 + x4 >= 7\n",
    "problema1 += x4 + x5 >= 12\n",
    "problema1 += x5 + x6 >= 4"
   ]
  },
  {
   "cell_type": "code",
   "execution_count": 12,
   "id": "4eacd14b",
   "metadata": {},
   "outputs": [
    {
     "data": {
      "text/plain": [
       "Problema1:\n",
       "MINIMIZE\n",
       "1*X1 + 1*X2 + 1*X3 + 1*X4 + 1*X5 + 1*X6 + 0\n",
       "SUBJECT TO\n",
       "_C1: X1 + X6 >= 4\n",
       "\n",
       "_C2: X1 + X2 >= 8\n",
       "\n",
       "_C3: X2 + X3 >= 10\n",
       "\n",
       "_C4: X3 + X4 >= 7\n",
       "\n",
       "_C5: X4 + X5 >= 12\n",
       "\n",
       "_C6: X5 + X6 >= 4\n",
       "\n",
       "VARIABLES\n",
       "0 <= X1 Integer\n",
       "0 <= X2 Integer\n",
       "0 <= X3 Integer\n",
       "0 <= X4 Integer\n",
       "0 <= X5 Integer\n",
       "0 <= X6 Integer"
      ]
     },
     "execution_count": 12,
     "metadata": {},
     "output_type": "execute_result"
    }
   ],
   "source": [
    "problema1"
   ]
  },
  {
   "cell_type": "code",
   "execution_count": 13,
   "id": "6555d621",
   "metadata": {},
   "outputs": [
    {
     "data": {
      "text/plain": [
       "1"
      ]
     },
     "execution_count": 13,
     "metadata": {},
     "output_type": "execute_result"
    }
   ],
   "source": [
    "problema1.solve()"
   ]
  },
  {
   "cell_type": "code",
   "execution_count": 14,
   "id": "05fc9d88",
   "metadata": {
    "scrolled": false
   },
   "outputs": [
    {
     "name": "stdout",
     "output_type": "stream",
     "text": [
      "X1: 0.0\n",
      "X2: 10.0\n",
      "X3: 0.0\n",
      "X4: 12.0\n",
      "X5: 0.0\n",
      "X6: 4.0\n"
     ]
    }
   ],
   "source": [
    "for var in problema1.variables():\n",
    "    print(f\"{var.name}: {var.value()}\")"
   ]
  },
  {
   "cell_type": "markdown",
   "id": "3a9f8deb",
   "metadata": {},
   "source": [
    "<h1> PROBLEMA 2"
   ]
  },
  {
   "cell_type": "code",
   "execution_count": null,
   "id": "6e74cfae",
   "metadata": {},
   "outputs": [],
   "source": [
    "problema2 = LpProblem(\"PROBLEMA 2\", LpMaximize)\n",
    "\n",
    "#variables\n",
    "x1 = LpVariable(\"X1\")"
   ]
  }
 ],
 "metadata": {
  "kernelspec": {
   "display_name": "Python 3 (ipykernel)",
   "language": "python",
   "name": "python3"
  },
  "language_info": {
   "codemirror_mode": {
    "name": "ipython",
    "version": 3
   },
   "file_extension": ".py",
   "mimetype": "text/x-python",
   "name": "python",
   "nbconvert_exporter": "python",
   "pygments_lexer": "ipython3",
   "version": "3.11.2"
  }
 },
 "nbformat": 4,
 "nbformat_minor": 5
}
